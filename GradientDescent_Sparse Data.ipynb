{
 "cells": [
  {
   "cell_type": "code",
   "execution_count": 1,
   "metadata": {},
   "outputs": [],
   "source": [
    "import matplotlib.pyplot as plt\n",
    "from sklearn.datasets.samples_generator import make_blobs\n",
    "import numpy as np\n",
    "from random import randint\n",
    "import math\n",
    "from sklearn.utils import shuffle"
   ]
  },
  {
   "cell_type": "code",
   "execution_count": 2,
   "metadata": {},
   "outputs": [],
   "source": [
    "(X, y) = make_blobs(n_samples=500, n_features=20, centers=2,cluster_std=3.1,random_state=95) #Original Data"
   ]
  },
  {
   "cell_type": "code",
   "execution_count": 3,
   "metadata": {},
   "outputs": [],
   "source": [
    "for i in range(len(X)):\n",
    "    for j in range(len(X[0])-8):\n",
    "        rand_no = randint(0,len(X[0])-1)\n",
    "        X[i][rand_no] = 0 "
   ]
  },
  {
   "cell_type": "code",
   "execution_count": 4,
   "metadata": {},
   "outputs": [],
   "source": [
    "X = np.c_[np.ones((X.shape[0])), X] #For absorbing bias"
   ]
  },
  {
   "cell_type": "code",
   "execution_count": 16,
   "metadata": {},
   "outputs": [],
   "source": [
    "con_fac = 0.0005\n",
    "alpha = 0.01\n",
    "epochs = 100\n",
    "batchsize = 1 #same bathcsize for every algorithms\n",
    "W1 = np.random.uniform(size=(X.shape[1],)) #same initial weights\n",
    "W1 = tuple(W1)"
   ]
  },
  {
   "cell_type": "code",
   "execution_count": 17,
   "metadata": {},
   "outputs": [],
   "source": [
    "def gradient_descent(X,y,alpha,epochs):\n",
    "    W = []\n",
    "    W = list(W1)\n",
    "    loss_list = []\n",
    "    flag=True\n",
    "    num = epochs\n",
    "    for epoch in range(0,epochs):\n",
    "        prediction = 1.0 / (1 + np.exp(-(X.dot(W))))\n",
    "        error = prediction - y\n",
    "        loss = np.sum(error ** 2)\n",
    "        loss_list.append(loss/len(X))\n",
    "        gradient = X.T.dot(error) / X.shape[0]\n",
    "        W += -(alpha) * gradient\n",
    "        if(loss/len(X)<con_fac and flag==True): #for storing number of epochs to reach the convergence factor\n",
    "            num = epoch\n",
    "            flag=False\n",
    "    return loss_list,W,num"
   ]
  },
  {
   "cell_type": "code",
   "execution_count": 18,
   "metadata": {},
   "outputs": [],
   "source": [
    "def stochastic_gradient_descent(X,y,alpha,epochs,batchsize):\n",
    "    W = []\n",
    "    W = list(W1)\n",
    "    flag = True\n",
    "    num = epochs\n",
    "    loss_list = []\n",
    "    variance_loss_list =[] #for showing the fluctuations\n",
    "    for epoch in range(0,epochs):\n",
    "        X, y = shuffle(X, y, random_state=0)\n",
    "        loss_curr = []\n",
    "        for rand_no in range(0,len(X),batchsize):\n",
    "            X_new = X[rand_no:rand_no+batchsize]\n",
    "            y_new = y[rand_no:rand_no+batchsize]\n",
    "            prediction = 1.0 / (1 + np.exp(-(X_new.dot(W))))\n",
    "            error = prediction - y_new\n",
    "            loss = np.sum(error ** 2)\n",
    "            loss_curr.append(loss)\n",
    "            gradient = X_new.T.dot(error) / X_new.shape[0]\n",
    "            W += -(alpha) * gradient\n",
    "        loss_list.append(np.average(loss_curr))\n",
    "        if(np.average(loss_curr)<con_fac and flag==True):\n",
    "                num = epoch\n",
    "                flag = False\n",
    "    return loss_list,W,num"
   ]
  },
  {
   "cell_type": "code",
   "execution_count": 19,
   "metadata": {},
   "outputs": [],
   "source": [
    "def sgd_momentum(X,y,alpha,epochs,batchsize):\n",
    "    W = []\n",
    "    flag = True\n",
    "    num = epochs\n",
    "    W = list(W1)\n",
    "    beta=0.9\n",
    "    v = np.zeros(len(W))\n",
    "    loss_list = []\n",
    "    for epoch in range(0,epochs):\n",
    "        X, y = shuffle(X, y, random_state=0)\n",
    "        loss_curr = []\n",
    "        for rand_no in range(0,len(X),batchsize):\n",
    "            X_new = X[rand_no:rand_no+batchsize]\n",
    "            y_new = y[rand_no:rand_no+batchsize]\n",
    "            prediction = 1.0 / (1 + np.exp(-(X_new.dot(W))))\n",
    "            error = prediction - y_new\n",
    "            loss = np.sum(error ** 2)\n",
    "            loss_curr.append(loss)\n",
    "            gradient = X_new.T.dot(error) / X_new.shape[0]\n",
    "            v = (beta*(v)) + (alpha*gradient)\n",
    "            W -= v\n",
    "        loss_list.append(np.average(loss_curr))\n",
    "        if(np.average(loss_curr)<con_fac and flag==True):\n",
    "                num = epoch\n",
    "                flag = False\n",
    "    return loss_list,W,num"
   ]
  },
  {
   "cell_type": "code",
   "execution_count": 32,
   "metadata": {},
   "outputs": [],
   "source": [
    "def adagrad(X,y,alpha,epochs,batchsize):\n",
    "    num = epochs\n",
    "    W = []\n",
    "    W = list(W1)\n",
    "    flag = True\n",
    "    loss_list = []\n",
    "    grad_history = np.zeros(len(W))\n",
    "    fudge_factor = 1e-6\n",
    "    loss_list = []\n",
    "    for epoch in range(0,epochs):\n",
    "        X, y = shuffle(X, y, random_state=0)\n",
    "        loss_curr = []\n",
    "        for rand_no in range(0,len(X),batchsize):\n",
    "            X_new = X[rand_no:rand_no+batchsize]\n",
    "            y_new = y[rand_no:rand_no+batchsize]\n",
    "            prediction = 1.0 / (1 + np.exp(-(X_new.dot(W))))\n",
    "            error = prediction - y_new\n",
    "            loss = np.sum(error ** 2)\n",
    "            loss_curr.append(loss)\n",
    "            gradient = X_new.T.dot(error) / X_new.shape[0]\n",
    "            grad_history+= (gradient ** 2)\n",
    "            new_grad = gradient / np.sqrt(fudge_factor + (grad_history))\n",
    "            W += -(alpha) * new_grad\n",
    "        loss_list.append(np.average(loss_curr))\n",
    "        if(np.average(loss_curr)<con_fac and flag==True):\n",
    "                num = epoch\n",
    "                flag = False\n",
    "    return loss_list,W,num"
   ]
  },
  {
   "cell_type": "code",
   "execution_count": 33,
   "metadata": {},
   "outputs": [],
   "source": [
    "def adadelta(X,y,alpha,epochs,batchsize):\n",
    "    flag = True\n",
    "    num = epochs\n",
    "    W = []\n",
    "    W = list(W1)\n",
    "    loss_list = []\n",
    "    decay_grad = np.zeros(len(W))\n",
    "    decay_param = np.zeros(len(W))\n",
    "    del_W = np.zeros(len(W))\n",
    "    fudge_factor = 1e-6\n",
    "    decay_rate = 0.9\n",
    "    loss_list = []\n",
    "    for epoch in range(0,epochs):\n",
    "        X, y = shuffle(X, y, random_state=0)\n",
    "        loss_curr = []\n",
    "        for rand_no in range(0,len(X),batchsize):\n",
    "            X_new = X[rand_no:rand_no+batchsize]\n",
    "            y_new = y[rand_no:rand_no+batchsize]\n",
    "            prediction = 1.0 / (1 + np.exp(-(X_new.dot(W))))\n",
    "            error = prediction - y_new\n",
    "            loss = np.sum(error ** 2)\n",
    "            loss_curr.append(loss)\n",
    "            grad = X_new.T.dot(error) / X_new.shape[0]\n",
    "            decay_grad = (decay_rate*decay_grad) + ((1-decay_rate)*(grad ** 2))\n",
    "            RMS_decay_grad = np.sqrt(fudge_factor + (decay_grad))\n",
    "            del_W = - (np.sqrt(fudge_factor + (decay_param)) * grad) / RMS_decay_grad\n",
    "            decay_param = (decay_rate*decay_param) + ((1-decay_rate)*(del_W ** 2))\n",
    "            RMS_decay_param = np.sqrt(fudge_factor + (decay_param))\n",
    "            W += - (RMS_decay_param*grad) / RMS_decay_grad\n",
    "        loss_list.append(np.average(loss_curr))\n",
    "        if(np.average(loss_curr)<con_fac and flag==True):\n",
    "                num = epoch\n",
    "                flag = False\n",
    "    return loss_list,W,num"
   ]
  },
  {
   "cell_type": "code",
   "execution_count": 34,
   "metadata": {},
   "outputs": [],
   "source": [
    "def RMSprop(X,y,alpha,epochs,batchsize):\n",
    "    flag = True\n",
    "    num = epochs\n",
    "    W = []\n",
    "    W = list(W1)\n",
    "    loss_list = []\n",
    "    decay_grad = np.zeros(len(W))\n",
    "    decay_param = np.zeros(len(W))\n",
    "    fudge_factor = 1e-6\n",
    "    decay_rate = 0.9\n",
    "    loss_list = []\n",
    "    for epoch in range(0,epochs):\n",
    "        X, y = shuffle(X, y, random_state=0)\n",
    "        loss_curr = []\n",
    "        for rand_no in range(0,len(X),batchsize):\n",
    "            X_new = X[rand_no:rand_no+batchsize]\n",
    "            y_new = y[rand_no:rand_no+batchsize]\n",
    "            prediction = 1.0 / (1 + np.exp(-(X_new.dot(W))))\n",
    "            error = prediction - y_new\n",
    "            loss = np.sum(error ** 2)\n",
    "            loss_curr.append(loss)\n",
    "            grad = X_new.T.dot(error) / X_new.shape[0]\n",
    "            decay_grad = (decay_rate*decay_grad) + ((1-decay_rate)*(grad ** 2))\n",
    "            RMS_decay_grad = np.sqrt(fudge_factor + (decay_grad))\n",
    "            W += - (alpha*grad) / RMS_decay_grad\n",
    "        loss_list.append(np.average(loss_curr))\n",
    "        if(np.average(loss_curr)<con_fac and flag==True):\n",
    "                num = epoch\n",
    "                flag = False\n",
    "    return loss_list,W,num"
   ]
  },
  {
   "cell_type": "code",
   "execution_count": 35,
   "metadata": {},
   "outputs": [],
   "source": [
    "def Adam(X,y,alpha,epochs,batchsize):\n",
    "    flag = True\n",
    "    num = epochs\n",
    "    W = []\n",
    "    W = list(W1)\n",
    "    loss_list = []\n",
    "    m_t = np.zeros(len(W))\n",
    "    v_t = np.zeros(len(W))\n",
    "    fudge_factor = 1e-6\n",
    "    beta_1 = 0.9\n",
    "    beta_2 = 0.999\n",
    "    loss_list = []\n",
    "    t=0\n",
    "    for epoch in range(0,epochs):\n",
    "        X, y = shuffle(X, y, random_state=0)\n",
    "        loss_curr = []\n",
    "        for rand_no in range(0,len(X),batchsize):\n",
    "            t+=1\n",
    "            X_new = X[rand_no:rand_no+batchsize]\n",
    "            y_new = y[rand_no:rand_no+batchsize]\n",
    "            prediction = 1.0 / (1 + np.exp(-(X_new.dot(W))))\n",
    "            error = prediction - y_new\n",
    "            loss = np.sum(error ** 2)\n",
    "            loss_curr.append(loss)\n",
    "            g_t = X_new.T.dot(error) / X_new.shape[0]\n",
    "            m_t = beta_1*m_t + (1-beta_1)*g_t\n",
    "            v_t = beta_2*v_t + (1-beta_2)*(g_t*g_t)\n",
    "            m_cap = m_t/(1-(beta_1**t))\n",
    "            v_cap = v_t/(1-(beta_2**t))\n",
    "            W = W - (alpha*m_cap)/(np.sqrt(v_cap)+fudge_factor)\n",
    "        loss_list.append(np.average(loss_curr))\n",
    "        if(np.average(loss_curr)<con_fac and flag==True):\n",
    "                num = epoch\n",
    "                flag = False\n",
    "    return loss_list,W,num"
   ]
  },
  {
   "cell_type": "code",
   "execution_count": 36,
   "metadata": {
    "scrolled": true
   },
   "outputs": [],
   "source": [
    "loss_list1,weights1,num1 = gradient_descent(X,y,alpha,epochs)\n",
    "\n",
    "loss_list2,weights2,num2 = stochastic_gradient_descent(X,y,alpha,epochs,batchsize)\n",
    "\n",
    "loss_list3,weights3,num3 = sgd_momentum(X,y,alpha,epochs,batchsize)\n",
    "\n",
    "loss_list4,weights4,num4 = adagrad(X,y,alpha,epochs,batchsize)\n",
    "\n",
    "loss_list5,weights5,num5 = adadelta(X,y,alpha,epochs,batchsize)\n",
    "\n",
    "loss_list6,weights6,num6 = RMSprop(X,y,alpha,epochs,batchsize)\n",
    "\n",
    "loss_list7,weights7,num7 = Adam(X,y,alpha,epochs,batchsize)"
   ]
  },
  {
   "cell_type": "code",
   "execution_count": 37,
   "metadata": {},
   "outputs": [
    {
     "data": {
      "text/plain": [
       "[]"
      ]
     },
     "execution_count": 37,
     "metadata": {},
     "output_type": "execute_result"
    },
    {
     "data": {
      "image/png": "[encoded data removed]",
      "text/plain": [
       "<Figure size 432x288 with 1 Axes>"
      ]
     },
     "metadata": {},
     "output_type": "display_data"
    }
   ],
   "source": [
    "fig = plt.figure()\n",
    "fig.suptitle(\"Loss on Sparse data \")\n",
    "plt.xlabel(\"No. of Epochs\")\n",
    "plt.ylabel(\"Loss\")\n",
    "plt.plot(np.arange(0, epochs), loss_list1)\n",
    "plt.plot(np.arange(0, epochs), loss_list2)\n",
    "plt.plot(np.arange(0, epochs), loss_list3)\n",
    "plt.plot(np.arange(0, epochs), loss_list4)\n",
    "plt.plot(np.arange(0, epochs), loss_list5)\n",
    "plt.plot(np.arange(0, epochs), loss_list6)\n",
    "plt.plot(np.arange(0, epochs), loss_list7)\n",
    "plt.legend(['GD','SGD', 'SGDM', 'Adagrad', 'Adadelta', 'RMS', 'Adam'], loc='upper right')\n",
    "\n",
    "\n",
    "plt.plot()"
   ]
  },
  {
   "cell_type": "code",
   "execution_count": null,
   "metadata": {},
   "outputs": [],
   "source": []
  }
 ],
 "metadata": {
  "kernelspec": {
   "display_name": "Python 3",
   "language": "python",
   "name": "python3"
  },
  "language_info": {
   "codemirror_mode": {
    "name": "ipython",
    "version": 3
   },
   "file_extension": ".py",
   "mimetype": "text/x-python",
   "name": "python",
   "nbconvert_exporter": "python",
   "pygments_lexer": "ipython3",
   "version": "3.6.5"
  }
 },
 "nbformat": 4,
 "nbformat_minor": 2
}
